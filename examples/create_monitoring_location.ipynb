{
 "metadata": {
  "language_info": {
   "codemirror_mode": {
    "name": "ipython",
    "version": 3
   },
   "file_extension": ".py",
   "mimetype": "text/x-python",
   "name": "python",
   "nbconvert_exporter": "python",
   "pygments_lexer": "ipython3",
   "version": "3.6.12-final"
  },
  "orig_nbformat": 2,
  "kernelspec": {
   "name": "python3",
   "display_name": "Python 3.6.12 64-bit",
   "metadata": {
    "interpreter": {
     "hash": "4cd7ab41f5fca4b9b44701077e38c5ffd31fe66a6cab21e0214b68d958d0e462"
    }
   }
  }
 },
 "nbformat": 4,
 "nbformat_minor": 2,
 "cells": [
  {
   "source": [
    "# Example creating Monitoring Location\n",
    "\n",
    "This example demonstrates how to create a monitoring location XML file. The resulting file can be submitted using `wqxweblib` or the WQX Web application on CDX.\n",
    "\n",
    "Start by importing the elements which are needed in your Monitoring Location."
   ],
   "cell_type": "markdown",
   "metadata": {}
  },
  {
   "cell_type": "code",
   "execution_count": 1,
   "metadata": {},
   "outputs": [
    {
     "output_type": "stream",
     "name": "stdout",
     "text": [
      "Defaulting to user installation because normal site-packages is not writeable\n",
      "Collecting wqxlib\n",
      "  Using cached wqxlib-3.0.0.3.1-py3-none-any.whl (92 kB)\n",
      "Collecting yattag>=1.14.0\n",
      "  Using cached yattag-1.14.0-py3-none-any.whl\n",
      "Collecting requests>=2.25.0\n",
      "  Using cached requests-2.25.1-py2.py3-none-any.whl (61 kB)\n",
      "Collecting rfc3986>=1.4.0\n",
      "  Using cached rfc3986-1.4.0-py2.py3-none-any.whl (31 kB)\n",
      "Requirement already satisfied: wheel>=0.36.2 in /usr/local/lib/python3.6/site-packages (from wqxlib) (0.36.2)\n",
      "Requirement already satisfied: certifi>=2017.4.17 in /home/vscode/.local/lib/python3.6/site-packages (from requests>=2.25.0->wqxlib) (2020.12.5)\n",
      "Requirement already satisfied: urllib3<1.27,>=1.21.1 in /home/vscode/.local/lib/python3.6/site-packages (from requests>=2.25.0->wqxlib) (1.26.3)\n",
      "Requirement already satisfied: idna<3,>=2.5 in /home/vscode/.local/lib/python3.6/site-packages (from requests>=2.25.0->wqxlib) (2.10)\n",
      "Requirement already satisfied: chardet<5,>=3.0.2 in /home/vscode/.local/lib/python3.6/site-packages (from requests>=2.25.0->wqxlib) (4.0.0)\n",
      "Installing collected packages: yattag, rfc3986, requests, wqxlib\n",
      "Successfully installed requests-2.25.1 rfc3986-1.4.0 wqxlib-3.0.0.3.1 yattag-1.14.0\n"
     ]
    }
   ],
   "source": [
    "!pip3 install --upgrade wqxlib\n",
    "\n",
    "from wqxlib import (\n",
    "    Document,\n",
    "    Header,\n",
    "    Payload,\n",
    "    Submission\n",
    ")\n",
    "from wqxlib.wqx_v3_0 import (\n",
    "    MonitoringLocation,\n",
    "    MonitoringLocationGeospatial,\n",
    "    MonitoringLocationIdentity,\n",
    "    Organization,\n",
    "    OrganizationDescription,\n",
    "    WQX\n",
    ")\n"
   ]
  },
  {
   "source": [
    "There are many ways to generate the document, but basically you just need to specify its properties and run `generateXML()` on it. In this example, we'll create objects representing distinct portions of the submission, then combine them together at the end before generating the XML.\n",
    "\n",
    "Let's start by defining the organization which is in charge of the Monitoring Location."
   ],
   "cell_type": "markdown",
   "metadata": {}
  },
  {
   "cell_type": "code",
   "execution_count": 2,
   "metadata": {},
   "outputs": [],
   "source": [
    "organization_description = OrganizationDescription(\n",
    "    organizationIdentifier = \"WQXTEST\",\n",
    "    organizationFormalName = \"WQX Test Organization\",\n",
    "    organizationDescriptionText = \"Test\"\n",
    ")"
   ]
  },
  {
   "source": [
    "The Geospatial information about the Monitoring Location is similarly defined."
   ],
   "cell_type": "markdown",
   "metadata": {}
  },
  {
   "cell_type": "code",
   "execution_count": 3,
   "metadata": {},
   "outputs": [],
   "source": [
    "monitoring_location_geospatial = MonitoringLocationGeospatial(\n",
    "    latitudeMeasure = \"38.6470\",\n",
    "    longitudeMeasure = \"-82.8587\",\n",
    "    sourceMapScale = \"2400\",\n",
    "    horizontalCollectionMethodName = \"Interpolation-Map\",\n",
    "    horizontalCoordinateReferenceSystemDatumName = \"NAD83\",\n",
    "    countryCode = \"US\",\n",
    "    stateCode = \"WV\",\n",
    "    countyCode = \"039\"\n",
    ")"
   ]
  },
  {
   "source": [
    "We also need to describe the Monitoring Location's identity."
   ],
   "cell_type": "markdown",
   "metadata": {}
  },
  {
   "cell_type": "code",
   "execution_count": 4,
   "metadata": {},
   "outputs": [],
   "source": [
    "monitoring_location_identity = MonitoringLocationIdentity(\n",
    "    monitoringLocationIdentifier = \"GREENUP\",\n",
    "    monitoringLocationName = \"Greenup Dam\",\n",
    "    monitoringLocationTypeName = \"River/Stream\",\n",
    "    hucEightDigitCode = \"05090103\",\n",
    "    hucTwelveDigitCode = \"050901030107\",\n",
    "    tribalLandIndicator = False\n",
    ")"
   ]
  },
  {
   "source": [
    "The last bit of information we need to add is header metadata which lets you tell WQX who to email about the status of the submission."
   ],
   "cell_type": "markdown",
   "metadata": {}
  },
  {
   "cell_type": "code",
   "execution_count": 5,
   "metadata": {},
   "outputs": [],
   "source": [
    "header = Header(\n",
    "    author = \"Test Author\",\n",
    "    organization = \"Test Organization\",\n",
    "    contactInfo = \"Test Organization Mailing or Physical Address\",\n",
    "    notification = \"test@example.org\"\n",
    ")"
   ]
  },
  {
   "source": [
    "Now we'll piece together these objects into a `Submission` object."
   ],
   "cell_type": "markdown",
   "metadata": {}
  },
  {
   "cell_type": "code",
   "execution_count": 6,
   "metadata": {},
   "outputs": [],
   "source": [
    "submission = Submission(\n",
    "    document=Document(\n",
    "        id='20201209ML8',\n",
    "        header=header,\n",
    "        # Even though we are assigning a single object to the payload key here,\n",
    "        # it becomes a list item which can be appended to later\n",
    "        payload=Payload(\n",
    "            operation='Update-Insert',\n",
    "            wqx=WQX(\n",
    "                organization=Organization(\n",
    "                    organizationDescription = organization_description,\n",
    "                    monitoringLocation=MonitoringLocation(\n",
    "                        monitoringLocationGeospatial=monitoring_location_geospatial,\n",
    "                        monitoringLocationIdentity=monitoring_location_identity\n",
    "                    )\n",
    "                )\n",
    "            )\n",
    "        )\n",
    "    )\n",
    ")"
   ]
  },
  {
   "source": [
    "A few things to note:\n",
    "\n",
    "- The `id` attribute should be an identifier of your choosing which is unique within the organization.\n",
    "- The `operation` attribute should almost always be `Update-Insert` unless you are deleting something.\n",
    "- The `payload` attribute can be either a list or a single `Payload` object. If you assign a single object, it will be converted into a list of `Payload` objects containing only the one object. This convention allows you to later add additional `Payload` objects, if that is appropriate for your project. You can enclose the `Payload` object with square brackets to remind yourself of what is happening if you choose.\n",
    "\n",
    "Now that the required attributes are already assigned, we can generate the XML file."
   ],
   "cell_type": "markdown",
   "metadata": {}
  },
  {
   "cell_type": "code",
   "execution_count": 7,
   "metadata": {},
   "outputs": [
    {
     "output_type": "stream",
     "name": "stdout",
     "text": [
      "<?xml version=\"1.0\" encoding=\"UTF-8\"?>\n<Document Id=\"20201209ML8\" xmlns=\"http://www.exchangenetwork.net/schema/v1.0/ExchangeNetworkDocument.xsd\" xmlns:xsi=\"http://www.w3.org/2001/XMLSchema-instance\">\n  <Header>\n    <Author>Test Author</Author>\n    <Organization>Test Organization</Organization>\n    <Title>WQX</Title>\n    <CreationTime>2021-03-10T19:44:53+00:00</CreationTime>\n    <ContactInfo>Test Organization Mailing or Physical Address</ContactInfo>\n    <Notification>test@example.org</Notification>\n  </Header>\n  <Payload Operation=\"Update-Insert\">\n    <WQX xmlns=\"http://www.exchangenetwork.net/schema/wqx/3\" xmlns:xsi=\"http://www.w3.org/2001/XMLSchema-instance\" xsi:schemaLocation=\"http://www.exchangenetwork.net/schema/wqx/3 http://www.exchangenetwork.net/schema/wqx/3/index.xsd\">\n      <Organization>\n        <OrganizationDescription>\n          <OrganizationIdentifier>WQXTEST</OrganizationIdentifier>\n          <OrganizationFormalName>WQX Test Organization</OrganizationFormalName>\n          <OrganizationDescriptionText>Test</OrganizationDescriptionText>\n        </OrganizationDescription>\n        <MonitoringLocation>\n          <MonitoringLocationIdentity>\n            <MonitoringLocationIdentifier>GREENUP</MonitoringLocationIdentifier>\n            <MonitoringLocationName>Greenup Dam</MonitoringLocationName>\n            <MonitoringLocationTypeName>River/Stream</MonitoringLocationTypeName>\n            <HUCEightDigitCode>05090103</HUCEightDigitCode>\n            <HUCTwelveDigitCode>050901030107</HUCTwelveDigitCode>\n            <TribalLandIndicator>false</TribalLandIndicator>\n          </MonitoringLocationIdentity>\n          <MonitoringLocationGeospatial>\n            <LatitudeMeasure>38.6470</LatitudeMeasure>\n            <LongitudeMeasure>-82.8587</LongitudeMeasure>\n            <SourceMapScale>2400</SourceMapScale>\n            <HorizontalCollectionMethodName>Interpolation-Map</HorizontalCollectionMethodName>\n            <HorizontalCoordinateReferenceSystemDatumName>NAD83</HorizontalCoordinateReferenceSystemDatumName>\n            <CountryCode>US</CountryCode>\n            <StateCode>WV</StateCode>\n            <CountyCode>039</CountyCode>\n          </MonitoringLocationGeospatial>\n        </MonitoringLocation>\n      </Organization>\n    </WQX>\n  </Payload>\n</Document>\n"
     ]
    }
   ],
   "source": [
    "doc = submission.document.generateXML()\n",
    "print(doc)"
   ]
  },
  {
   "source": [
    "That's it! You could write that document to a file and submit it directly to WQX Web to import into WQX. If you want to automate that process, take a look at `wqxweblib` which simplifies the process of submitting data to WQX Web's API.\n",
    "\n",
    "You may notice that the XML document closely reflects the structure of the object you created. A future version of the library will abstract this process a bit more so you can focus on the data submission and less on the format of the document."
   ],
   "cell_type": "markdown",
   "metadata": {}
  }
 ]
}